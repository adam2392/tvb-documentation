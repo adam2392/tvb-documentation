{
 "cells": [
  {
   "cell_type": "code",
   "execution_count": 1,
   "metadata": {
    "collapsed": false
   },
   "outputs": [
    {
     "name": "stdout",
     "output_type": "stream",
     "text": [
      "2019-05-20 16:25:00,104 - WARNING - tvb.core.traits.core - <class 'sqlalchemy.exc.SAWarning'> -- Unmanaged access of declarative attribute fk_algorithm from non-mapped class WorkflowStepView \n",
      "2019-05-20 16:25:00,105 - WARNING - tvb.core.traits.core - <class 'sqlalchemy.exc.SAWarning'> -- Unmanaged access of declarative attribute fk_workflow from non-mapped class WorkflowStepView \n",
      "2019-05-20 16:25:00,110 - WARNING - tvb.core.traits.core - <class 'sqlalchemy.exc.SAWarning'> -- Unmanaged access of declarative attribute fk_algorithm from non-mapped class WorkflowStep \n",
      "2019-05-20 16:25:00,111 - WARNING - tvb.core.traits.core - <class 'sqlalchemy.exc.SAWarning'> -- Unmanaged access of declarative attribute fk_workflow from non-mapped class WorkflowStep \n",
      "2019-05-20 16:25:01,603 - WARNING - tvb.core.traits.core - <class 'sqlalchemy.exc.SAWarning'> -- Unmanaged access of declarative attribute __tablename__ from non-mapped class Connectivity \n",
      "2019-05-20 16:25:01,631 - WARNING - tvb.core.traits.core - <class 'sqlalchemy.exc.SAWarning'> -- Unmanaged access of declarative attribute __tablename__ from non-mapped class Surface \n",
      "2019-05-20 16:25:01,746 - WARNING - tvb.core.traits.core - <class 'sqlalchemy.exc.SAWarning'> -- Unmanaged access of declarative attribute __tablename__ from non-mapped class Volume \n"
     ]
    }
   ],
   "source": [
    "from tvb.basic.profile import TvbProfile\n",
    "TvbProfile.set_profile(TvbProfile.COMMAND_PROFILE)\n",
    "\n",
    "from tvb.interfaces.command.lab import *\n",
    "from tvb.adapters.creators.allen_creator import AllenConnectomeBuilder\n",
    "from tvb.core.services.flow_service import FlowService"
   ]
  },
  {
   "cell_type": "markdown",
   "metadata": {},
   "source": [
    "For the next step to work correctly, you should have launched TVB Web GUI at least once, and fill the settings step.\n",
    "At least one project needs to exist in your local environment for the following operations to exist in."
   ]
  },
  {
   "cell_type": "code",
   "execution_count": 2,
   "metadata": {
    "collapsed": false
   },
   "outputs": [
    {
     "name": "stdout",
     "output_type": "stream",
     "text": [
      "                    name    id\n",
      "         Default_Project     1\n"
     ]
    }
   ],
   "source": [
    "list_projects()"
   ]
  },
  {
   "cell_type": "code",
   "execution_count": 3,
   "metadata": {
    "collapsed": false
   },
   "outputs": [
    {
     "name": "stdout",
     "output_type": "stream",
     "text": [
      "2019-05-20 16:25:09,477 - INFO - tvb.core.services.flow_service - Starting operation AllenConnectomeBuilder\n",
      "2019-05-20 16:25:09,545 - INFO - tvb.core.services.flow_service - Finished operation launch:AllenConnectomeBuilder\n"
     ]
    }
   ],
   "source": [
    "## This ID of a project needs to exists in Db, and it can be taken from the WebInterface:\n",
    "project = dao.get_project_by_id(1)\n",
    "    \n",
    "builder_instance = ABCAdapter.build_adapter_from_class(AllenConnectomeBuilder)\n",
    "\n",
    "## Prepare the input algorithms as if they were coming from web UI submit:\n",
    "launch_args = {\"resolution\": 100, \n",
    "               \"weighting\": 1,\n",
    "               \"inf_vox_thresh\": 80,\n",
    "               \"vol_thresh\": 100000000}\n",
    "\n",
    "## launch an operation and have the results stored both in DB and on disk\n",
    "flow_service = FlowService()\n",
    "launched_operations = flow_service.fire_operation(builder_instance,\n",
    "                                                  project.administrator,\n",
    "                                                  project.id,\n",
    "                                                **launch_args)\n",
    "\n",
    "#allen_builder = allen_creator.AllenConnectomeBuilder()  # get an instance of the class\n",
    "#allen_builder.launch(100,1,50,100000000)                # call the method f of the instance"
   ]
  },
  {
   "cell_type": "markdown",
   "metadata": {
    "collapsed": true
   },
   "source": [
    "At this point, your operation of Allen DB import should be running in the background.\n",
    "If you launch TVB web GUI, and you go to Project -> Operations page, you should see the new operation running (state color BLUE).\n",
    "\n",
    "When done, your results will be ready for inspection in TVB web GUI.\n",
    "Do not close your computer until the operation has finished. If you do so, then relaunch after you restart. Downloaded files will not be lost, but found by the new operation.\n"
   ]
  },
  {
   "cell_type": "code",
   "execution_count": null,
   "metadata": {
    "collapsed": true
   },
   "outputs": [],
   "source": []
  }
 ],
 "metadata": {
  "kernelspec": {
   "display_name": "Python 2",
   "language": "python",
   "name": "python2"
  },
  "language_info": {
   "codemirror_mode": {
    "name": "ipython",
    "version": 2
   },
   "file_extension": ".py",
   "mimetype": "text/x-python",
   "name": "python",
   "nbconvert_exporter": "python",
   "pygments_lexer": "ipython2",
   "version": "2.7.16"
  }
 },
 "nbformat": 4,
 "nbformat_minor": 0
}
